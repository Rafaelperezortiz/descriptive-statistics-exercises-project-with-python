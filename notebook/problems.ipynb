{
    "cells": [
        {
            "cell_type": "markdown",
            "id": "ac622319",
            "metadata": {},
            "source": [
                "# Descriptive statistics problems"
            ]
        },
        {
            "cell_type": "markdown",
            "id": "aa8993e4",
            "metadata": {},
            "source": [
                "### Exercise 1"
            ]
        },
        {
            "cell_type": "markdown",
            "id": "5e0ab0d5",
            "metadata": {},
            "source": [
                "We will use Numpy to obtain information to describe statistically.\n",
                "\n",
                "- Generate an array of 100 elements following a normal distribution.\n",
                "- Generate an array of 100 elements following a chi-square distribution with 3 degrees of freedom.\n",
                "- Calculate the main metrics and statistical measures that best describe the two vectors."
            ]
        },
        {
            "cell_type": "code",
            "execution_count": 9,
            "id": "34720ab6",
            "metadata": {},
            "outputs": [
                {
                    "name": "stdout",
                    "output_type": "stream",
                    "text": [
                        "Principales métricas estadísticas de la distribucion normal:\n",
                        "\n",
                        "Media : -9.384651739409385\n",
                        "Mediana : -11.69562917797126\n",
                        "Moda: 50.67141530112327\n",
                        "Desviacion estandar : 90.36161766446295\n",
                        "Varianza : 8165.221946938583\n",
                        "Máximo : 186.22781845089378\n",
                        "Mínimo: -260.9745104089744\n",
                        "Rango: 447.2023288598682\n",
                        "\n",
                        "Principales métricas estadísticas de la distribucion x2:\n",
                        "\n",
                        "media: 2.9380795335328225\n",
                        "Mediana : 2.4636148965577283\n",
                        "Desviacion estandar : 2.4118463757907924\n",
                        "Varianza : 5.817002940415181\n",
                        "Máximo : 12.724562650789606\n",
                        "Mínimo: 0.1324733758268489\n",
                        "Rango: 12.592089274962756\n"
                    ]
                }
            ],
            "source": [
                "import numpy as np\n",
                "import statistics as st\n",
                "np.random.seed(42) \n",
                "\n",
                "matriz = np.random.normal(1, 100, 100) #matriz normal\n",
                "chi_matriz = np.random.chisquare(3, 100) #matriz de 100 elementos y 3 grados\n",
                "\n",
                "# estadisticass para la matriz normal\n",
                "\n",
                "media = np.mean(matriz)\n",
                "mediana = np.median(matriz)\n",
                "moda = st.mode(matriz)\n",
                "desviacion_estandar = np.std(matriz)\n",
                "varianza = np.var(matriz)\n",
                "maximo = np.max(matriz)\n",
                "minimo = np.min(matriz)\n",
                "rango = maximo - minimo\n",
                "\n",
                "#estadisticas para la matriz chi\n",
                "\n",
                "chi_media = np.mean(chi_matriz)\n",
                "chi_mediana = np.median(chi_matriz)\n",
                "#chi_moda = np.mode(chi_matriz)\n",
                "chi_desviacion = np.std(chi_matriz)\n",
                "chi_varianza = np.var(chi_matriz)\n",
                "chi_maximo  = np.max(chi_matriz)\n",
                "chi_minimo = np.min(chi_matriz)\n",
                "chi_rango = chi_maximo - chi_minimo\n",
                "\n",
                "#Imprimir resultados\n",
                "\n",
                "print(\"Principales métricas estadísticas de la distribucion normal:\")\n",
                "print()\n",
                "print(\"Media :\", media)\n",
                "print(\"Mediana :\", mediana)\n",
                "print(\"Moda:\", moda)\n",
                "print(\"Desviacion estandar :\" ,desviacion_estandar)\n",
                "print(\"Varianza :\", varianza)\n",
                "print(\"Máximo :\", maximo)\n",
                "print(\"Mínimo:\",minimo)\n",
                "print(\"Rango:\", rango)\n",
                "print()\n",
                "print(\"Principales métricas estadísticas de la distribucion x2:\")\n",
                "print()\n",
                "print(\"media:\",chi_media)\n",
                "print(\"Mediana :\", chi_mediana)\n",
                "#print(\"Moda:\",chi_moda)\n",
                "print(\"Desviacion estandar :\" ,chi_desviacion)\n",
                "print(\"Varianza :\",chi_varianza)\n",
                "print(\"Máximo :\", chi_maximo)\n",
                "print(\"Mínimo:\",chi_minimo)\n",
                "print(\"Rango:\",chi_rango)"
            ]
        },
        {
            "cell_type": "markdown",
            "id": "46c70c3d",
            "metadata": {},
            "source": [
                "### Exercise 2\n",
                "\n",
                "Write a Python program to calculate the standard deviation of the following data:\n",
                "\n",
                "```py\n",
                "data = [4, 2, 5, 8, 6]\n",
                "```"
            ]
        },
        {
            "cell_type": "code",
            "execution_count": 33,
            "id": "d590308e",
            "metadata": {},
            "outputs": [
                {
                    "name": "stdout",
                    "output_type": "stream",
                    "text": [
                        "La desviacion estandar de  los datos es : 2.0\n"
                    ]
                }
            ],
            "source": [
                "import numpy as np\n",
                "\n",
                "data = [4, 2, 5, 8, 6]\n",
                "#crear funcion de desviacion estandar .std\n",
                "\n",
                "desviacion_estandar = np.std(data)\n",
                "\n",
                "print(\"La desviacion estandar de  los datos es :\",desviacion_estandar)\n"
            ]
        },
        {
            "cell_type": "code",
            "execution_count": 8,
            "id": "dc811851",
            "metadata": {},
            "outputs": [
                {
                    "name": "stdout",
                    "output_type": "stream",
                    "text": [
                        "La desviación estandar de los datos es de: 2.23606797749979\n"
                    ]
                }
            ],
            "source": [
                "import numpy as np\n",
                "import statistics as st\n",
                "\n",
                "\n",
                "data = [4,2,5,8,6]\n",
                "\n",
                "\n",
                "\n",
                "\n",
                "# OPCION 1RA : USANDO UNA FUNCIÓN CON LOOP (for)\n",
                "def std(array):\n",
                "    media = sum(array)/len(array)\n",
                "    step1 = 0\n",
                "    for x in array:\n",
                "        step1 += (x-media)**2\n",
                "    step2 = (step1 / 4) ** 0,5\n",
                "    return step2\n",
                "\n",
                "\n",
                "print(\"La desviación estandar de los datos es de:\",(st.stdev(data)))"
            ]
        }
    ],
    "metadata": {
        "interpreter": {
            "hash": "9248718ffe6ce6938b217e69dbcc175ea21f4c6b28a317e96c05334edae734bb"
        },
        "kernelspec": {
            "display_name": "Python 3.9.12 ('ML-BOOTCAMP')",
            "language": "python",
            "name": "python3"
        },
        "language_info": {
            "codemirror_mode": {
                "name": "ipython",
                "version": 3
            },
            "file_extension": ".py",
            "mimetype": "text/x-python",
            "name": "python",
            "nbconvert_exporter": "python",
            "pygments_lexer": "ipython3",
            "version": "3.11.4"
        }
    },
    "nbformat": 4,
    "nbformat_minor": 5
}
